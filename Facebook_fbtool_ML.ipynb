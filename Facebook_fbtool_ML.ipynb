{
 "cells": [
  {
   "cell_type": "markdown",
   "metadata": {
    "id": "L1HeX35CjlTM"
   },
   "source": [
    "### **Import**"
   ]
  },
  {
   "cell_type": "code",
   "execution_count": 1,
   "metadata": {
    "colab": {
     "base_uri": "https://localhost:8080/"
    },
    "id": "U2Xm-UCFOY37",
    "outputId": "7f55a856-6aad-4963-ed08-a57417b707fb"
   },
   "outputs": [],
   "source": [
    "# data analysis and wrangling\n",
    "import pandas as pd\n",
    "import numpy as np\n",
    "import re\n",
    "\n",
    "# visualization\n",
    "import seaborn as sns\n",
    "import matplotlib.pyplot as plt\n",
    "%matplotlib inline\n",
    "\n",
    "# Writing multiple dataframes to worksheets using Pandas and XlsxWriter\n",
    "# !pip install xlsxwriter\n",
    "import xlsxwriter\n",
    "import glob"
   ]
  },
  {
   "cell_type": "markdown",
   "metadata": {
    "id": "bkv6BhItGm2i"
   },
   "source": [
    "## **Выгрузка**"
   ]
  },
  {
   "cell_type": "code",
   "execution_count": 2,
   "metadata": {
    "id": "bR714dUGDeMr"
   },
   "outputs": [],
   "source": [
    "xls = pd.ExcelFile(r'C:\\Users\\u1-510\\Desktop\\Facebook\\Статистика аккаунтов.xlsx')\n",
    "fbtool = pd.read_excel(xls, 'Sheet1')\n",
    "crm = pd.read_excel(xls, 'Sheet2')"
   ]
  },
  {
   "cell_type": "markdown",
   "metadata": {
    "id": "Y_IsNX1JIR9m"
   },
   "source": [
    "### **Статистика предыдущий выгрузки**"
   ]
  },
  {
   "cell_type": "code",
   "execution_count": 3,
   "metadata": {
    "id": "_Qe0itjDH7bp"
   },
   "outputs": [],
   "source": [
    "# xls1= pd.ExcelFile(r'C:\\Users\\u1-510\\Desktop\\Facebook\\OLD\\UZ_Test.xlsx')\n",
    "# df1 = pd.read_excel(xls1, 'Information')"
   ]
  },
  {
   "cell_type": "code",
   "execution_count": 4,
   "metadata": {
    "id": "XUeHB0apzcZZ"
   },
   "outputs": [],
   "source": [
    "# Должен иметь шапку, первую строку \"Adset\" в файле не удалять \n",
    "df_stop = pd.read_excel(r'C:\\Users\\u1-510\\Desktop\\Facebook\\Status.xlsx', names=['bm'], header=None)"
   ]
  },
  {
   "cell_type": "markdown",
   "metadata": {
    "id": "8M0OdOTLr3xo"
   },
   "source": [
    "### **Настройки**"
   ]
  },
  {
   "cell_type": "code",
   "execution_count": 5,
   "metadata": {
    "id": "l425jbVslWt_"
   },
   "outputs": [],
   "source": [
    "# Время выгрузки\n",
    "time_unloading = '18:30'\n",
    "# Регион\n",
    "GEO = 'DE'\n",
    "# Название файла\n",
    "file_name = 'DE_Test.xlsx'"
   ]
  },
  {
   "cell_type": "markdown",
   "metadata": {
    "id": "kdxYNJCykaoh"
   },
   "source": [
    "# **Pivot table**"
   ]
  },
  {
   "cell_type": "markdown",
   "metadata": {
    "id": "hjH2QZtzGgJD"
   },
   "source": [
    "## **Fbtool**"
   ]
  },
  {
   "cell_type": "code",
   "execution_count": 6,
   "metadata": {
    "colab": {
     "base_uri": "https://localhost:8080/",
     "height": 231
    },
    "id": "yYjPoIybYQm_",
    "outputId": "01ebbbd9-9f7d-40c9-aca4-495787e60812"
   },
   "outputs": [],
   "source": [
    "# Изменение header\n",
    "fbtool.columns = fbtool.iloc[0]\n",
    "fbtool = fbtool.reindex(fbtool.index.drop(0))\n",
    "cols = list(fbtool.columns)\n",
    "cols[1] = 'Utm_campaign'\n",
    "cols[2] = 'Сabinet'\n",
    "cols[3] = 'Cost'\n",
    "cols[4] = 'Show'\n",
    "cols[5] = 'Link_cliks'\n",
    "cols[6] = 'Install'\n",
    "fbtool.columns = cols"
   ]
  },
  {
   "cell_type": "code",
   "execution_count": 7,
   "metadata": {
    "id": "xCxVYUWGjL7V"
   },
   "outputs": [],
   "source": [
    "# Удаление NaN\n",
    "fbtool = fbtool.replace(0,np.nan).dropna(axis=1,how=\"all\")"
   ]
  },
  {
   "cell_type": "code",
   "execution_count": 8,
   "metadata": {
    "id": "RGsI3SnbVB-1"
   },
   "outputs": [],
   "source": [
    "# Удаление колонок\n",
    "fbtool.drop([\"Сabinet\", \"CPI\", \"CPC\", \"CPM\", \"CTR\"], axis=1, inplace=True )"
   ]
  },
  {
   "cell_type": "code",
   "execution_count": 9,
   "metadata": {
    "id": "31STr7k2Tl41"
   },
   "outputs": [],
   "source": [
    "# удалить данные после пробела\n",
    "fbtool['Utm_campaign'] = fbtool['Utm_campaign'].map(lambda x: x.split()[0])"
   ]
  },
  {
   "cell_type": "code",
   "execution_count": 10,
   "metadata": {
    "id": "rxfTL52IMqNi"
   },
   "outputs": [],
   "source": [
    "#print(fbtool['Utm_campaign'].values)"
   ]
  },
  {
   "cell_type": "code",
   "execution_count": 11,
   "metadata": {
    "id": "SggpqyeBVKJT"
   },
   "outputs": [],
   "source": [
    "# текст по столбцам\n",
    "#fb_addset = fbtool['Utm_campaign'].str.split('_', expand=True)\n",
    "fb_addset = fbtool['Utm_campaign'].str.split(r'\\_|\\-', expand=True)"
   ]
  },
  {
   "cell_type": "code",
   "execution_count": 12,
   "metadata": {
    "id": "z_P5LP2ubpLA"
   },
   "outputs": [],
   "source": [
    "# Header for adset\n",
    "fb_addset.columns=['adset', 'geo', 'brand', 'page', 'soc', \n",
    "                   'bm', 'acc', 'camp', 'adset1', 'int', 'placement', \n",
    "                   'gender', 'age', 'text', 'creo', 'app', 'os', 'mb']"
   ]
  },
  {
   "cell_type": "code",
   "execution_count": 13,
   "metadata": {
    "id": "SSlvBONZieDw"
   },
   "outputs": [],
   "source": [
    "# соединить два датафрейма по столбцам\n",
    "fbtool_final = pd.concat([fbtool,fb_addset],axis=1)"
   ]
  },
  {
   "cell_type": "code",
   "execution_count": 14,
   "metadata": {
    "id": "0uxby-bPbDOz"
   },
   "outputs": [],
   "source": [
    "# Время\n",
    "fbtool_final['Time'] = time_unloading"
   ]
  },
  {
   "cell_type": "code",
   "execution_count": 15,
   "metadata": {
    "id": "xxo2hnfrq_Yb"
   },
   "outputs": [],
   "source": [
    "# # ACC только V\n",
    "# fbtool_final = fbtool_final.loc[fbtool_final.acc == ACC]"
   ]
  },
  {
   "cell_type": "code",
   "execution_count": 16,
   "metadata": {
    "id": "TjBA9HkmzbB1"
   },
   "outputs": [],
   "source": [
    "# Регион\n",
    "fbtool_final = fbtool_final.loc[fbtool_final.geo == GEO]"
   ]
  },
  {
   "cell_type": "code",
   "execution_count": 17,
   "metadata": {
    "id": "JFXLU1Sx35xk"
   },
   "outputs": [],
   "source": [
    "# Замена NaN\n",
    "fbtool_final.fillna(0, inplace=True)"
   ]
  },
  {
   "cell_type": "code",
   "execution_count": 18,
   "metadata": {
    "id": "6_JOOQxEG1Ks"
   },
   "outputs": [],
   "source": [
    "# Изменение форматов\n",
    "fbtool_final['Cost'] = fbtool_final['Cost'].astype(float)\n",
    "fbtool_final['Show'] = fbtool_final['Show'].astype(int)\n",
    "fbtool_final['Link_cliks'] = fbtool_final['Link_cliks'].astype(int)\n",
    "fbtool_final['Install'] = fbtool_final['Install'].astype(int)"
   ]
  },
  {
   "cell_type": "code",
   "execution_count": 19,
   "metadata": {
    "id": "s-A_dppC0XCX"
   },
   "outputs": [],
   "source": [
    "fbtool_final = fbtool_final.loc[fbtool_final.geo == GEO]"
   ]
  },
  {
   "cell_type": "markdown",
   "metadata": {
    "id": "Zdsj2LaBOh1m"
   },
   "source": [
    "## **CRM**"
   ]
  },
  {
   "cell_type": "code",
   "execution_count": 20,
   "metadata": {
    "id": "oEQB_d1IXoMR"
   },
   "outputs": [],
   "source": [
    "# Удаление колонок\n",
    "crm.drop([\"Utm_source\", 'Utm_content', \"Utm_medium\"], axis=1, inplace=True)"
   ]
  },
  {
   "cell_type": "code",
   "execution_count": 21,
   "metadata": {
    "id": "U2n_8KlKtXBk"
   },
   "outputs": [],
   "source": [
    "# Переименование колонок\n",
    "crm = crm.rename(columns=\n",
    "                       {'Registration count': 'Reg',\n",
    "                        'Ftd count': 'Ftd'\n",
    "                       })"
   ]
  },
  {
   "cell_type": "code",
   "execution_count": 22,
   "metadata": {
    "id": "f-ssJszLr9Yl"
   },
   "outputs": [],
   "source": [
    "# замена прочерков\n",
    "crm['Ftd'].replace('-', 0, inplace=True)"
   ]
  },
  {
   "cell_type": "code",
   "execution_count": 23,
   "metadata": {
    "id": "pzwg9Le6O8x7"
   },
   "outputs": [],
   "source": [
    "# Изменение форматов\n",
    "crm['Reg'] = crm['Reg'].astype(int)\n",
    "crm['Ftd'] = crm['Ftd'].astype(int)"
   ]
  },
  {
   "cell_type": "markdown",
   "metadata": {
    "id": "gOB62rAB2_cF"
   },
   "source": [
    "### **Combining**"
   ]
  },
  {
   "cell_type": "code",
   "execution_count": 24,
   "metadata": {
    "id": "GiaZhM6O7mIh"
   },
   "outputs": [],
   "source": [
    "# Left join\n",
    "df = fbtool_final.merge(crm, how='left', on=[\"Utm_campaign\"])"
   ]
  },
  {
   "cell_type": "code",
   "execution_count": 25,
   "metadata": {
    "id": "ftEKtVgqI4ET"
   },
   "outputs": [],
   "source": [
    "# Замена NaN\n",
    "df.fillna(0, inplace=True)"
   ]
  },
  {
   "cell_type": "code",
   "execution_count": 26,
   "metadata": {
    "id": "48gO8sCIElwi"
   },
   "outputs": [],
   "source": [
    "# Изменение форматов\n",
    "df['Reg'] = df['Reg'].astype(int)"
   ]
  },
  {
   "cell_type": "markdown",
   "metadata": {
    "id": "KSmt9gzMgjl8"
   },
   "source": [
    "## **GROUP BY**"
   ]
  },
  {
   "cell_type": "code",
   "execution_count": 27,
   "metadata": {
    "id": "fCftQr1Dc-6X"
   },
   "outputs": [],
   "source": [
    "# Группировка при выборке\n",
    "df_group = pd.DataFrame(df.groupby(['bm', 'Utm_campaign'], as_index=False).sum())"
   ]
  },
  {
   "cell_type": "code",
   "execution_count": 28,
   "metadata": {
    "id": "3AO8HvH1x9x8"
   },
   "outputs": [],
   "source": [
    "# Вычисление\n",
    "df_group = df_group.assign(Instal_cost = df_group.Cost/df_group.Install)\n",
    "df_group = df_group.assign(Reg_cost = df_group.Cost/df_group.Reg)\n",
    "df_group = df_group.assign(CTR = df_group.Link_cliks/df_group.Show*100)\n",
    "df_group = df_group.assign(FTD_cost = df_group.Cost/df_group.Ftd)"
   ]
  },
  {
   "cell_type": "code",
   "execution_count": 29,
   "metadata": {
    "id": "_rEtuhtUyxcs"
   },
   "outputs": [],
   "source": [
    "# Удаление колонок\n",
    "df_group.drop(['Show', 'Link_cliks'], axis=1, inplace=True)"
   ]
  },
  {
   "cell_type": "code",
   "execution_count": 30,
   "metadata": {
    "id": "_1z5Iv00zUIn"
   },
   "outputs": [],
   "source": [
    "# Замена Inf\n",
    "df_group.replace([np.inf, -np.inf], 0, inplace=True)"
   ]
  },
  {
   "cell_type": "code",
   "execution_count": 31,
   "metadata": {
    "id": "6GdLSnynT6aA"
   },
   "outputs": [],
   "source": [
    "# Словарь класификации\n",
    "codes_cats = df_group.Utm_campaign.astype('category')\n",
    "dict_cats = dict(enumerate(codes_cats.cat.categories))"
   ]
  },
  {
   "cell_type": "code",
   "execution_count": 32,
   "metadata": {
    "id": "uV14n9DMbCFc"
   },
   "outputs": [],
   "source": [
    "# Присвоенные cat.codes\n",
    "df_group['ID'] = df_group.Utm_campaign.astype('category').cat.codes\n",
    "\n",
    "# Розшифровка\n",
    "#df_group['level_back'] = df_group['ID'].map(dict_cats)"
   ]
  },
  {
   "cell_type": "markdown",
   "metadata": {
    "id": "Ctq_ZucFfuRi"
   },
   "source": [
    "## **Modeling**"
   ]
  },
  {
   "cell_type": "code",
   "execution_count": 33,
   "metadata": {
    "id": "7JsgvuOCjq_-"
   },
   "outputs": [],
   "source": [
    "# machine learning\n",
    "from sklearn.svm import SVC, LinearSVC\n",
    "from sklearn.metrics import confusion_matrix, classification_report, roc_auc_score , accuracy_score, precision_score\n",
    "from sklearn.model_selection import train_test_split\n",
    "from xgboost.sklearn import XGBClassifier"
   ]
  },
  {
   "cell_type": "code",
   "execution_count": 34,
   "metadata": {
    "id": "JLcP3vC4ZffY"
   },
   "outputs": [],
   "source": [
    "df_train = pd.read_excel(r'C:\\Users\\u1-510\\Desktop\\Facebook\\Model\\030FA000.xlsx')"
   ]
  },
  {
   "cell_type": "code",
   "execution_count": 35,
   "metadata": {
    "id": "yNA4x5UVZfnP"
   },
   "outputs": [],
   "source": [
    "df_test = df_group[['ID', 'Cost', 'Install', 'Reg', 'Instal_cost', 'Reg_cost']].copy()"
   ]
  },
  {
   "cell_type": "code",
   "execution_count": 36,
   "metadata": {
    "id": "KmGaov2LDI5L"
   },
   "outputs": [],
   "source": [
    "# Переименование и удаление колонок\n",
    "# df_train.drop(['Ftd', 'FTD_cost'], axis=1, inplace=True)\n",
    "\n",
    "df_train = df_train.rename(columns=\n",
    "                       {'Name': 'ID',})"
   ]
  },
  {
   "cell_type": "code",
   "execution_count": 37,
   "metadata": {
    "id": "V6A1Q5rwD-l5"
   },
   "outputs": [],
   "source": [
    "X = df_train.drop(\"Target\",axis=1)\n",
    "y = df_train[\"Target\"]"
   ]
  },
  {
   "cell_type": "code",
   "execution_count": 38,
   "metadata": {
    "id": "zCx07Lo1IYs0"
   },
   "outputs": [],
   "source": [
    "X_train, X_test, y_train, y_test = train_test_split(X,y, test_size=0.3, random_state=42)"
   ]
  },
  {
   "cell_type": "code",
   "execution_count": 39,
   "metadata": {
    "id": "vaLqLsWnJkit"
   },
   "outputs": [],
   "source": [
    "#Using kfold cross validation\n",
    "from sklearn.model_selection import KFold, cross_val_predict\n",
    "kf = KFold(shuffle=True, random_state=42, n_splits=3)\n",
    "for train_index, test_index in kf.split(X):\n",
    "    X_train, X_test, y_train, y_test = (X.iloc[train_index, :], \n",
    "                                        X.iloc[test_index, :], \n",
    "                                        y[train_index], \n",
    "                                        y[test_index])"
   ]
  },
  {
   "cell_type": "code",
   "execution_count": 40,
   "metadata": {
    "id": "-F-LCKoQJyID"
   },
   "outputs": [
    {
     "name": "stdout",
     "output_type": "stream",
     "text": [
      "[15:55:40] WARNING: C:/Users/Administrator/workspace/xgboost-win64_release_1.5.1/src/learner.cc:1115: Starting in XGBoost 1.3.0, the default evaluation metric used with the objective 'multi:softprob' was changed from 'merror' to 'mlogloss'. Explicitly set eval_metric if you'd like to restore the old behavior.\n"
     ]
    }
   ],
   "source": [
    "from xgboost.sklearn import XGBClassifier\n",
    "xgb=XGBClassifier(learning_rate=0.001, objective='multi:softprob', n_estimators=2500,\n",
    "                                max_depth=4, min_child_weight=0,\n",
    "                                gamma=0, subsample=0.7,\n",
    "                                colsample_bytree=0.7,\n",
    "                                seed=27,\n",
    "                                reg_alpha=0.00006,\n",
    "                                use_label_encoder=False)\n",
    "xgb.fit(X_train,y_train)\n",
    "predict_12=xgb.predict(X_test)"
   ]
  },
  {
   "cell_type": "code",
   "execution_count": 41,
   "metadata": {
    "id": "fRxgUdebKaNx"
   },
   "outputs": [
    {
     "name": "stdout",
     "output_type": "stream",
     "text": [
      "0.9776357827476039\n",
      "[[ 93   4   0]\n",
      " [  0  60   1]\n",
      " [  2   0 153]]\n",
      "              precision    recall  f1-score   support\n",
      "\n",
      "           0       0.98      0.96      0.97        97\n",
      "           1       0.94      0.98      0.96        61\n",
      "           2       0.99      0.99      0.99       155\n",
      "\n",
      "    accuracy                           0.98       313\n",
      "   macro avg       0.97      0.98      0.97       313\n",
      "weighted avg       0.98      0.98      0.98       313\n",
      "\n"
     ]
    }
   ],
   "source": [
    "print(accuracy_score(y_test,predict_12))\n",
    "print(confusion_matrix(y_test,predict_12))\n",
    "print(classification_report(y_test,predict_12))"
   ]
  },
  {
   "cell_type": "code",
   "execution_count": 42,
   "metadata": {
    "id": "tstp4ySSKgRR"
   },
   "outputs": [],
   "source": [
    "pred = xgb.predict(df_test)\n",
    "pred = pred.astype(int)"
   ]
  },
  {
   "cell_type": "markdown",
   "metadata": {
    "id": "E0hainE1QHpj"
   },
   "source": [
    "## **Analysis**"
   ]
  },
  {
   "cell_type": "markdown",
   "metadata": {
    "id": "d1iZQDCqZuRJ"
   },
   "source": [
    "### **Predict page**"
   ]
  },
  {
   "cell_type": "code",
   "execution_count": 43,
   "metadata": {
    "id": "UzSdxfPIAL5p"
   },
   "outputs": [
    {
     "name": "stdout",
     "output_type": "stream",
     "text": [
      "1\n"
     ]
    }
   ],
   "source": [
    "try:\n",
    "  submission = pd.DataFrame({'ID':df_test['ID'],'score':pred})\n",
    "\n",
    "  predict = pd.merge(df_group, \n",
    "                    submission,\n",
    "                    on = 'ID')\n",
    "\n",
    "  def score_df(el):\n",
    "    if el == 0:\n",
    "      return 'Restrat'\n",
    "    elif el == 1:\n",
    "      return 'Active'\n",
    "    else:\n",
    "      return 'Threshold'\n",
    "\n",
    "  predict['Score'] = predict['score'].map(score_df)\n",
    "\n",
    "  stop_list = df_stop['bm'].tolist()\n",
    "  def stop_df(el):\n",
    "    if el in stop_list:\n",
    "      return 'Stop'\n",
    "    else:\n",
    "      return 'Active'\n",
    "\n",
    "  predict['Status'] = predict['bm'].map(stop_df)\n",
    "\n",
    "  predict = predict[['bm', 'Utm_campaign', 'Cost', 'Install', 'Reg', \n",
    "                'Ftd', 'Instal_cost', 'Reg_cost', 'FTD_cost', 'CTR', 'Score', 'Status']]\n",
    "\n",
    "  # Два знака после запятой\n",
    "  predict = predict.round(decimals=2)\n",
    "\n",
    "  # Замена Inf\n",
    "  predict.replace(np.nan, 0, inplace=True)\n",
    "\n",
    "  # Сортировка Cost по возростанию\n",
    "  predict = predict.sort_values(['Status', 'Score', 'Cost'], ascending=[True, True, False])\n",
    "\n",
    "  # Замена 0 на -\n",
    "  predict['Instal_cost'].replace(0, '-', inplace=True)\n",
    "  predict['Reg_cost'].replace(0, '-', inplace=True)\n",
    "  predict['FTD_cost'].replace(0, '-', inplace=True)\n",
    "  \n",
    "  print(1)\n",
    "except:\n",
    "  submission = pd.DataFrame({'ID':df_test['ID'],'score':pred})\n",
    "\n",
    "  predict = pd.merge(df_group, \n",
    "                    submission,\n",
    "                    on = 'ID')\n",
    "\n",
    "  def score_df(el):\n",
    "    if el == 0:\n",
    "      return 'Restrat'\n",
    "    elif el == 1:\n",
    "      return 'Active'\n",
    "    else:\n",
    "      return 'Threshold'\n",
    "\n",
    "  predict['Score'] = predict['score'].map(score_df)\n",
    "\n",
    "  predict = predict[['bm', 'Utm_campaign', 'Cost', 'Install', 'Reg', \n",
    "                'Ftd', 'Instal_cost', 'Reg_cost', 'FTD_cost', 'CTR', 'Score']]\n",
    "\n",
    "  # Два знака после запятой\n",
    "  predict = predict.round(decimals=2)\n",
    "\n",
    "  # Замена Inf\n",
    "  predict.replace(np.nan, 0, inplace=True)\n",
    "\n",
    "  # Сортировка Cost по возростанию\n",
    "  predict = predict.sort_values(['Score', 'Cost'], ascending=[True, False])\n",
    "\n",
    "  # Замена 0 на -\n",
    "  predict['Instal_cost'].replace(0, '-', inplace=True)\n",
    "  predict['Reg_cost'].replace(0, '-', inplace=True)\n",
    "  predict['FTD_cost'].replace(0, '-', inplace=True)\n",
    "  print(2)"
   ]
  },
  {
   "cell_type": "markdown",
   "metadata": {
    "id": "6xkklUjwT3zO"
   },
   "source": [
    "### **Total page**"
   ]
  },
  {
   "cell_type": "code",
   "execution_count": 44,
   "metadata": {
    "id": "ciNEZv74T3AQ"
   },
   "outputs": [
    {
     "name": "stdout",
     "output_type": "stream",
     "text": [
      "2\n",
      "The 'try except' is finished\n"
     ]
    }
   ],
   "source": [
    "try:\n",
    "  df = df[['Time', 'Utm_campaign', 'Cost', 'Show', 'Link_cliks', 'Install', 'Reg',\n",
    "      'Ftd', 'adset', 'geo', 'brand', 'page', 'soc', 'bm', 'acc', 'camp',\n",
    "      'adset1', 'int', 'placement', 'gender', 'age', 'text', 'creo', 'app',\n",
    "      'os', 'mb']]\n",
    "\n",
    "  df1['int'] = df1['int'].astype(str)\n",
    "  df1['age'] = df1['age'].astype(str)\n",
    "  df1_sum = df1.groupby(['Utm_campaign'], as_index=False).sum().copy()\n",
    "\n",
    "  result = pd.merge(df, df1_sum, how=\"left\", on=[\"Utm_campaign\"], suffixes=('', '_x'))\n",
    "  # Замена NaN\n",
    "  result.fillna(0, inplace=True)\n",
    "\n",
    "  # Вычисление\n",
    "  result['Cost'] = result['Cost'] - result['Cost_x']\n",
    "  result['Show'] = result['Show'] - result['Show_x']\n",
    "  result['Link_cliks'] = result['Link_cliks'] - result['Link_cliks_x']\n",
    "  result['Install'] = result['Install'] - result['Install_x']\n",
    "  result['Reg'] = result['Reg'] - result['Reg_x']\n",
    "  result['Ftd'] = result['Ftd'] - result['Ftd_x']\n",
    "  \n",
    "  result.drop(['Cost_x', 'Show_x', 'Link_cliks_x', 'Install_x', 'Reg_x', 'Ftd_x'], axis=1, inplace=True)\n",
    "\n",
    "  df_hourly = df1.append(result.loc[:, :])\n",
    "  df_hourly_total = df_hourly.copy()\n",
    "  \n",
    "  # Добавление Status для фильтра\n",
    "  df_stop['Status'] = 'Stop'\n",
    "  df_hourly_total = pd.merge(df_hourly_total, df_stop, how=\"left\", on=[\"bm\"])  \n",
    "  \n",
    "  # Добавление Score для фильтра\n",
    "  df_predict = predict[['Score', 'Utm_campaign']].copy()\n",
    "  df_hourly_total = pd.merge(df_hourly_total, df_predict, how=\"left\", on=[\"Utm_campaign\"])\n",
    "\n",
    "\n",
    "\n",
    "  # Группировка при выборке df_hourly + добавление ID\n",
    "  df_group_hourly = pd.DataFrame(df_hourly_total.groupby(['bm'], as_index=False).sum().sort_values(['Cost'], ascending=False))\n",
    "  df_group_hourly[\"ID\"] = np.arange(0, 0 + len(df_group_hourly))\n",
    "  df_group_hourly = df_group_hourly[['bm', 'ID']]\n",
    "\n",
    "  df_hourly_total = pd.merge(df_hourly_total, df_group_hourly, how=\"left\", on=[\"bm\"])\n",
    "\n",
    "  # Сводная таблица\n",
    "  df_pivot = df_hourly_total.groupby(['ID', 'bm']).apply(lambda sub: sub.pivot_table(\n",
    "      index=['Utm_campaign', 'Time'],\n",
    "      values=['Cost', 'Install', 'Show', 'Link_cliks', 'Reg', 'Ftd'],\n",
    "      aggfunc=np.sum,\n",
    "      margins=True,\n",
    "      margins_name='Total'\n",
    "  ))\n",
    "\n",
    "  df_pivot = df_hourly_total.groupby(['ID', 'bm']).apply(lambda sub: sub.pivot_table(\n",
    "      index=['Utm_campaign', 'Time'],\n",
    "      values=['Cost', 'Install', 'Show', 'Link_cliks', 'Reg', 'Ftd'],\n",
    "      aggfunc=np.sum,\n",
    "      margins=True,\n",
    "      margins_name='Total'\n",
    "  ))\n",
    "        \n",
    "  # Вычисление\n",
    "  df_pivot = df_pivot.assign(Instal_cost = df_pivot.Cost/df_pivot.Install)\n",
    "  df_pivot = df_pivot.assign(Reg_cost = df_pivot.Cost/df_pivot.Reg)\n",
    "  df_pivot = df_pivot.assign(FTD_cost = df_pivot.Cost/df_pivot.Ftd)\n",
    "  df_pivot = df_pivot.assign(CTR = df_pivot.Link_cliks/df_pivot.Show*100)\n",
    "\n",
    "  # Замена Inf\n",
    "  df_pivot.replace([np.inf, -np.inf, np.nan], 0, inplace=True)\n",
    "  # Два знака после запятой\n",
    "  df_pivot = df_pivot.round(decimals=2)\n",
    "  # Удалить колонки \n",
    "  df_pivot = df_pivot.drop(['Link_cliks', 'Show'], axis=1)\n",
    "\n",
    "  # Сортировка по первому уровню\n",
    "  df_pivot = df_pivot.sort_values(by = [\"ID\", 'Utm_campaign'], axis = 0, ascending=[True, False])\n",
    "\n",
    "  df_pivot = df_pivot.droplevel('ID')\n",
    "  df_hourly_total.drop(['ID', 'Score', 'Status'], axis=1, inplace=True)\n",
    "\n",
    "  # Замена 0 на -\n",
    "  df_pivot['Instal_cost'].replace(0, '-', inplace=True)\n",
    "  df_pivot['Reg_cost'].replace(0, '-', inplace=True)\n",
    "  df_pivot['FTD_cost'].replace(0, '-', inplace=True)\n",
    "\n",
    "  df_pivot = df_pivot[['Cost', 'Install', 'Reg', 'Ftd', 'Instal_cost', 'Reg_cost', 'FTD_cost', 'CTR']]\n",
    "  print('1')\n",
    "except:\n",
    "  df_pivot = df.groupby(['bm', 'Utm_campaign', 'Time']).sum().sort_values(['Cost'], ascending=False)\n",
    "\n",
    "  # Вычисление\n",
    "  df_pivot = df_pivot.assign(Instal_cost = df_pivot.Cost/df_pivot.Install)\n",
    "  df_pivot = df_pivot.assign(Reg_cost = df_pivot.Cost/df_pivot.Reg)\n",
    "  df_pivot = df_pivot.assign(FTD_cost = df_pivot.Cost/df_pivot.Ftd)\n",
    "  df_pivot = df_pivot.assign(CTR = df_pivot.Link_cliks/df_pivot.Show*100) \n",
    "\n",
    "  # Замена Inf\n",
    "  df_pivot.replace([np.inf, -np.inf, np.nan], 0, inplace=True)\n",
    "  # Два знака после запятой\n",
    "  df_pivot = df_pivot.round(decimals=2)\n",
    "  # Удалить колонки \n",
    "  df_pivot = df_pivot.drop(['Link_cliks', 'Show'], axis=1)\n",
    "  \n",
    "  # Замена 0 на -\n",
    "  df_pivot['Instal_cost'].replace(0, '-', inplace=True)\n",
    "  df_pivot['Reg_cost'].replace(0, '-', inplace=True)\n",
    "  df_pivot['FTD_cost'].replace(0, '-', inplace=True)\n",
    "  \n",
    "  df_pivot = df_pivot[['Cost', 'Install', 'Reg', 'Ftd', 'Instal_cost', 'Reg_cost', 'FTD_cost', 'CTR']]\n",
    "  print('2')\n",
    "finally:\n",
    "  print(\"The 'try except' is finished\")"
   ]
  },
  {
   "cell_type": "markdown",
   "metadata": {
    "id": "hW3hk0RjYVXQ"
   },
   "source": [
    "### **Time page**"
   ]
  },
  {
   "cell_type": "code",
   "execution_count": 45,
   "metadata": {
    "id": "KBkFApXVYRRQ"
   },
   "outputs": [
    {
     "name": "stdout",
     "output_type": "stream",
     "text": [
      "2\n",
      "The 'try except' is finished\n"
     ]
    }
   ],
   "source": [
    "try:\n",
    "  df_time = pd.pivot_table(df_hourly, values=['Cost','Link_cliks', 'Show', 'Install', 'Reg', 'Ftd'], \n",
    "                           index=['Time'], aggfunc='sum',\n",
    "                           margins=True, margins_name='Total')\n",
    "\n",
    "  # Вычисление\n",
    "  df_time = df_time.assign(Instal_cost = df_time.Cost/df_time.Install)\n",
    "  df_time = df_time.assign(Reg_cost = df_time.Cost/df_time.Reg)\n",
    "  df_time = df_time.assign(FTD_cost = df_time.Cost/df_time.Ftd)\n",
    "  df_time = df_time.assign(CTR = df_time.Link_cliks/df_time.Show*100)\n",
    "\n",
    "  # Замена Inf\n",
    "  df_time.replace([np.inf, -np.inf, np.nan], 0, inplace=True)\n",
    "\n",
    "  # Два знака после запятой\n",
    "  df_time = df_time.round(decimals=2)\n",
    "\n",
    "  # Удалить колонки \n",
    "  df_time = df_time.drop(['Link_cliks', 'Show'], axis=1)\n",
    "\n",
    "  # Замена 0 на -\n",
    "  df_time['Instal_cost'].replace(0, '-', inplace=True)\n",
    "  df_time['Reg_cost'].replace(0, '-', inplace=True)\n",
    "  df_time['FTD_cost'].replace(0, '-', inplace=True)\n",
    "  df_time = df_time[['Cost', 'Install', 'Reg', 'Ftd', 'Instal_cost', 'Reg_cost', 'FTD_cost', 'CTR']]\n",
    "  print(1)\n",
    "except:\n",
    "  df_time = pd.DataFrame(df[['Time', 'Cost','Link_cliks', 'Show', 'Install', 'Reg', 'Ftd']])\n",
    "\n",
    "  df_time = df_time.groupby('Time').sum().copy()\n",
    "\n",
    "  # Вычисление\n",
    "  df_time = df_time.assign(Instal_cost = df_time.Cost/df_time.Install)\n",
    "  df_time = df_time.assign(Reg_cost = df_time.Cost/df_time.Reg)\n",
    "  df_time = df_time.assign(FTD_cost = df_time.Cost/df_time.Ftd)\n",
    "  df_time = df_time.assign(CTR = df_time.Link_cliks/df_time.Show*100)\n",
    "\n",
    "  # Замена Inf\n",
    "  df_time.replace([np.inf, -np.inf, np.nan], 0, inplace=True)\n",
    "\n",
    "  # Два знака после запятой\n",
    "  df_time = df_time.round(decimals=2)\n",
    "\n",
    "  # Удалить колонки \n",
    "  df_time = df_time.drop(['Link_cliks', 'Show'], axis=1)\n",
    "\n",
    "  # Замена 0 на -\n",
    "  df_time['Instal_cost'].replace(0, '-', inplace=True)\n",
    "  df_time['Reg_cost'].replace(0, '-', inplace=True)\n",
    "  df_time['FTD_cost'].replace(0, '-', inplace=True)\n",
    "\n",
    "  df_time = df_time[['Cost', 'Install', 'Reg', 'Ftd', 'Instal_cost', 'Reg_cost', 'FTD_cost', 'CTR']]\n",
    "  print(2)\n",
    "finally:\n",
    "  print(\"The 'try except' is finished\")\n",
    "\n"
   ]
  },
  {
   "cell_type": "markdown",
   "metadata": {
    "id": "FTe6pL84Z6Zj"
   },
   "source": [
    "### **Creo page**"
   ]
  },
  {
   "cell_type": "code",
   "execution_count": 46,
   "metadata": {
    "id": "0TGM-_ix_AxI"
   },
   "outputs": [],
   "source": [
    "pivot_creo = pd.pivot_table(df, values=['Cost', 'Install', 'Show', 'Link_cliks', 'Reg', 'Ftd'], \n",
    "               index=['creo'], aggfunc='sum').sort_values('Cost', ascending=False)\n",
    "\n",
    "\n",
    "# Вычисление\n",
    "pivot_creo = pivot_creo.assign(Instal_cost = pivot_creo.Cost/pivot_creo.Install)\n",
    "pivot_creo = pivot_creo.assign(Reg_cost = pivot_creo.Cost/pivot_creo.Reg)\n",
    "pivot_creo = pivot_creo.assign(FTD_cost = pivot_creo.Cost/pivot_creo.Ftd)\n",
    "pivot_creo = pivot_creo.assign(CTR = pivot_creo.Link_cliks/pivot_creo.Show*100)\n",
    "\n",
    "# Замена Inf\n",
    "pivot_creo.replace([np.inf, -np.inf, np.nan], 0, inplace=True)\n",
    "\n",
    "# Два знака после запятой\n",
    "pivot_creo = pivot_creo.round(decimals=2)\n",
    "\n",
    "# Удалить колонки \n",
    "pivot_creo = pivot_creo.drop(['Link_cliks', 'Show'], axis=1)\n",
    "\n",
    "# Сортировка по первому уровню\n",
    "# pivot_creo = pivot_creo.sort_values(by = ['creo', \"app\"], axis = 0, ascending=[True, True])\n",
    "\n",
    "# Замена 0 на -\n",
    "pivot_creo['Instal_cost'].replace(0, '-', inplace=True)\n",
    "pivot_creo['Reg_cost'].replace(0, '-', inplace=True)\n",
    "pivot_creo['FTD_cost'].replace(0, '-', inplace=True)\n",
    "\n",
    "pivot_creo = pivot_creo[['Cost', 'Install', 'Reg', 'Ftd', 'Instal_cost', 'Reg_cost', 'FTD_cost', 'CTR']]"
   ]
  },
  {
   "cell_type": "markdown",
   "metadata": {
    "id": "x4MPePaDhBRl"
   },
   "source": [
    "### **App page**"
   ]
  },
  {
   "cell_type": "code",
   "execution_count": 47,
   "metadata": {
    "id": "MvdOg-4AIfJL"
   },
   "outputs": [],
   "source": [
    "pivot_app = pd.pivot_table(df, values=['Cost', 'Install', 'Show', 'Link_cliks', 'Reg', 'Ftd'], \n",
    "               index=['app'], aggfunc='sum').sort_values('Cost', ascending=False)\n",
    "\n",
    "# Вычисление\n",
    "pivot_app = pivot_app.assign(Instal_cost = pivot_app.Cost/pivot_app.Install)\n",
    "pivot_app = pivot_app.assign(Reg_cost = pivot_app.Cost/pivot_app.Reg)\n",
    "pivot_app = pivot_app.assign(FTD_cost = pivot_app.Cost/pivot_app.Ftd)\n",
    "pivot_app = pivot_app.assign(CTR = pivot_app.Link_cliks/pivot_app.Show*100)\n",
    "\n",
    "# Замена Inf\n",
    "pivot_app.replace([np.inf, -np.inf, np.nan], 0, inplace=True)\n",
    "\n",
    "# Два знака после запятой\n",
    "pivot_app = pivot_app.round(decimals=2)\n",
    "\n",
    "# Удалить колонки \n",
    "pivot_app = pivot_app.drop(['Link_cliks', 'Show'], axis=1)\n",
    "\n",
    "# Сортировка по первому уровню\n",
    "# pivot_app = pivot_app.sort_values(by = ['app', \"creo\"], axis = 0, ascending=[True, False])\n",
    "\n",
    "# Замена 0 на -\n",
    "pivot_app['Instal_cost'].replace(0, '-', inplace=True)\n",
    "pivot_app['Reg_cost'].replace(0, '-', inplace=True)\n",
    "pivot_app['FTD_cost'].replace(0, '-', inplace=True)\n",
    "\n",
    "pivot_app = pivot_app[['Cost', 'Install', 'Reg', 'Ftd', 'Instal_cost', 'Reg_cost', 'FTD_cost', 'CTR']]"
   ]
  },
  {
   "cell_type": "markdown",
   "metadata": {
    "id": "48OfAFh2KB71"
   },
   "source": [
    "### **Information page**"
   ]
  },
  {
   "cell_type": "code",
   "execution_count": 48,
   "metadata": {
    "id": "b-nQ6d9pGGRs"
   },
   "outputs": [
    {
     "name": "stdout",
     "output_type": "stream",
     "text": [
      "2\n",
      "The 'try except' is finished\n"
     ]
    }
   ],
   "source": [
    "try:\n",
    "  df_info = df_hourly\n",
    "  print(1)\n",
    "except:\n",
    "  df_info = df[['Time', 'Utm_campaign', 'Cost', 'Show', 'Link_cliks', \n",
    "          'Install', 'Reg', 'Ftd', 'adset', 'geo', 'brand', 'page', \n",
    "          'soc', 'bm', 'acc', 'camp', 'adset1', 'int', 'placement', \n",
    "          'gender', 'age', 'text', 'creo', 'app', 'os', 'mb']]\n",
    "  print(\"2\")\n",
    "finally:\n",
    "  print(\"The 'try except' is finished\")"
   ]
  },
  {
   "cell_type": "markdown",
   "metadata": {
    "id": "s1Pgjo6oRIQh"
   },
   "source": [
    "## **Save file**"
   ]
  },
  {
   "cell_type": "code",
   "execution_count": 49,
   "metadata": {
    "id": "SBzXyNmOolM-"
   },
   "outputs": [],
   "source": [
    "writer = pd.ExcelWriter(file_name, engine='xlsxwriter')\n",
    "\n",
    "# Write each dataframe to a different worksheet.\n",
    "predict.to_excel(writer, sheet_name='Predict', index=False)\n",
    "df_pivot.to_excel(writer, sheet_name='Total')\n",
    "df_time.to_excel(writer, sheet_name='Time')\n",
    "pivot_creo.to_excel(writer, sheet_name='Creo')\n",
    "pivot_app.to_excel(writer, sheet_name='App')\n",
    "df_info.to_excel(writer, sheet_name='Information', index=False)\n",
    "\n",
    "# Get the xlsxwriter workbook and worksheet objects.\n",
    "workbook  = writer.book\n",
    "worksheet_predict = writer.sheets['Predict']\n",
    "worksheet_total = writer.sheets['Total']\n",
    "worksheet_time = writer.sheets['Time']\n",
    "worksheet_creo = writer.sheets['Creo']\n",
    "worksheet_app = writer.sheets['App']\n",
    "\n",
    "# Number Format Categorie\n",
    "currency_format = workbook.add_format({'num_format': \n",
    "                                       '_-* # ##0_-;-* # ##0_-;_-* \"-\"??_-;_-@_-'})\n",
    "center = workbook.add_format({'align': 'center'})\n",
    "# format2 = workbook.add_format({'num_format': '_-* # ##0,00\\ _₽_-;-* # ##0,00\\ _₽_-;_-* \"-\"??\\ _₽_-;_-@_-'})\n",
    "\n",
    "# Set the column width and format.\n",
    "worksheet_predict.set_column('A:A', 15)\n",
    "worksheet_predict.set_column('B:B', 50)\n",
    "worksheet_predict.set_column('C:F', None, currency_format)\n",
    "worksheet_predict.set_column('K:L', 12, center)\n",
    "\n",
    "worksheet_total.set_column('A:A', 18)\n",
    "worksheet_total.set_column('B:B', 50)\n",
    "worksheet_total.set_column('C:C', None, center)\n",
    "worksheet_total.set_column('D:G', None, currency_format)\n",
    "\n",
    "worksheet_time.set_column('A:A', None, center)\n",
    "worksheet_time.set_column('B:E', None, currency_format)\n",
    "worksheet_time.set_column('F:I', 12)\n",
    "\n",
    "worksheet_creo.set_column('A:A', 30)\n",
    "worksheet_creo.set_column('B:E', None, currency_format)\n",
    "\n",
    "worksheet_app.set_column('A:A', 30)\n",
    "worksheet_app.set_column('B:E', None, currency_format)\n",
    "\n",
    "# Close the Pandas Excel writer and output the Excel file.\n",
    "writer.save()"
   ]
  }
 ],
 "metadata": {
  "colab": {
   "collapsed_sections": [
    "L1HeX35CjlTM",
    "kdxYNJCykaoh",
    "hjH2QZtzGgJD",
    "cUPRhjZTjji4",
    "Zdsj2LaBOh1m",
    "gOB62rAB2_cF",
    "KSmt9gzMgjl8",
    "Ctq_ZucFfuRi",
    "d1iZQDCqZuRJ",
    "6xkklUjwT3zO",
    "hW3hk0RjYVXQ",
    "FTe6pL84Z6Zj",
    "x4MPePaDhBRl",
    "48OfAFh2KB71",
    "s1Pgjo6oRIQh"
   ],
   "name": "Groupby.ipynb",
   "provenance": []
  },
  "kernelspec": {
   "display_name": "Python 3 (ipykernel)",
   "language": "python",
   "name": "python3"
  },
  "language_info": {
   "codemirror_mode": {
    "name": "ipython",
    "version": 3
   },
   "file_extension": ".py",
   "mimetype": "text/x-python",
   "name": "python",
   "nbconvert_exporter": "python",
   "pygments_lexer": "ipython3",
   "version": "3.9.7"
  }
 },
 "nbformat": 4,
 "nbformat_minor": 1
}
